{
 "cells": [
  {
   "cell_type": "markdown",
   "source": [
    "# Introdução ao FastAPI\n",
    "\n",
    "O FastAPI é um framework 'web' moderno, de alto desempenho, para construção de APIs e\n",
    "‘Websites’, com Python 3.6 ou superior, baseado nos type hints padrões do Python.\n",
    "\n",
    "## Conhecendo os recursos do FastAPI\n",
    "\n",
    "São vários os recursos do framework FastAPI, dentre eles podemos destacar:\n",
    "\n",
    "- Rápido: Framework ‘web’ de alto desempenho, equivalente a NodeJS e Go, um dos\n",
    "frameworks mais rápidos disponíveis;\n",
    "\n",
    "- Poucos 'bugs': Por conta do typing hints reduz certa de 40% de erros induzidos por humanos;\n",
    "\n",
    "- Enxuto: Minimiza a duplicação de código. Múltiplos recursos para cada declaração de\n",
    "parâmetro. Menos 'bugs';\n",
    "\n",
    "- Robusto: Tenha código pronto para produção e com documentação interativa automática;\n",
    "\n",
    "- Baseado em padrões: Baseado e totalmente compatível com padrões de projetos e os\n",
    "padrões abertos para APIs (OpenAPI e JSON Schema);"
   ],
   "metadata": {
    "collapsed": false
   }
  }
 ],
 "metadata": {
  "kernelspec": {
   "display_name": "Python 3",
   "language": "python",
   "name": "python3"
  },
  "language_info": {
   "codemirror_mode": {
    "name": "ipython",
    "version": 2
   },
   "file_extension": ".py",
   "mimetype": "text/x-python",
   "name": "python",
   "nbconvert_exporter": "python",
   "pygments_lexer": "ipython2",
   "version": "2.7.6"
  }
 },
 "nbformat": 4,
 "nbformat_minor": 0
}
