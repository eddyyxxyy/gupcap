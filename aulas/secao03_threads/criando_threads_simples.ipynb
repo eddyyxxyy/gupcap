{
 "cells": [
  {
   "cell_type": "markdown",
   "source": [
    "# Criando Threads simples em Python"
   ],
   "metadata": {
    "collapsed": false
   }
  },
  {
   "cell_type": "markdown",
   "source": [
    "### Primeiro, devemos importar o módulo threading e então implementar:"
   ],
   "metadata": {
    "collapsed": false
   }
  },
  {
   "cell_type": "code",
   "execution_count": 4,
   "outputs": [
    {
     "name": "stdout",
     "output_type": "stream",
     "text": [
      "1 elefante(s)...\n",
      "Podemos fazer outras coisas no programa enquanto a thread vai executando.\n",
      "Geek University Geek University \n",
      "2 elefante(s)...\n",
      "3 elefante(s)...\n",
      "4 elefante(s)...\n",
      "5 elefante(s)...\n",
      "6 elefante(s)...\n",
      "7 elefante(s)...\n",
      "8 elefante(s)...\n",
      "9 elefante(s)...\n",
      "10 elefante(s)...\n",
      "Pronto.\n"
     ]
    }
   ],
   "source": [
    "import threading\n",
    "import time\n",
    "\n",
    "\n",
    "def main() -> None:\n",
    "    th = threading.Thread(target=contar, args=(\"elefante\", 10))\n",
    "    th.start()  # Adiciona a nossa thread à pool de threads prontas pra execução\n",
    "    print(\n",
    "        \"Podemos fazer outras coisas no programa enquanto a thread vai executando.\"\n",
    "    )\n",
    "    print(\"Geek University \" * 2)\n",
    "\n",
    "    th.join()  # Avisa para ficar aguardando aqui até a thread terminar a execução\n",
    "\n",
    "    print(\"Pronto.\")\n",
    "\n",
    "\n",
    "def contar(o_que, vezes) -> any:\n",
    "    for n in range(1, vezes + 1):\n",
    "        print(f\"{n} {o_que}(s)...\")\n",
    "        time.sleep(1)\n",
    "\n",
    "\n",
    "if __name__ == \"__main__\":\n",
    "    main()"
   ],
   "metadata": {
    "collapsed": false
   }
  },
  {
   "cell_type": "markdown",
   "source": [
    "Com o que realizamos no código acima, criamos uma nova thread durante a execução do programa.\n",
    "\n",
    "Quando executamos um programa Python, é criada uma Thread (linha de execução) para ler o código\n",
    "e executá-lo, com os comandos introduzidos nesse programa pudemos criar uma Thread, que\n",
    "iniciar com o método \".start()\" após a instânciação do objeto da classe Thread.\n",
    "\n",
    "Quando executamos o método \".join()\", paramos a execução do restante do programa até que seja\n",
    "finalizada a execução da Thread criada."
   ],
   "metadata": {
    "collapsed": false
   }
  }
 ],
 "metadata": {
  "kernelspec": {
   "display_name": "Python 3",
   "language": "python",
   "name": "python3"
  },
  "language_info": {
   "codemirror_mode": {
    "name": "ipython",
    "version": 2
   },
   "file_extension": ".py",
   "mimetype": "text/x-python",
   "name": "python",
   "nbconvert_exporter": "python",
   "pygments_lexer": "ipython2",
   "version": "2.7.6"
  }
 },
 "nbformat": 4,
 "nbformat_minor": 0
}
