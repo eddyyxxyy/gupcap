{
 "cells": [
  {
   "cell_type": "markdown",
   "metadata": {},
   "source": [
    "# Criando Threads Multiplas"
   ]
  },
  {
   "cell_type": "markdown",
   "metadata": {},
   "source": [
    "### Para criarmos Threads Múltiplas, o processo é praticamente igual ao de Threads Simples."
   ]
  },
  {
   "cell_type": "code",
   "execution_count": 2,
   "metadata": {},
   "outputs": [
    {
     "name": "stdout",
     "output_type": "stream",
     "text": [
      "1 Elefante(s)...\n",
      "1 Buraco(s)...\n",
      "1 Dinheiro(s)...\n",
      "1 Pato(s)...\n",
      "Após o start() e antes do join().\n",
      "2 Elefante(s)...\n",
      "2 Buraco(s)...\n",
      "2 Dinheiro(s)...\n",
      "2 Pato(s)...\n",
      "3 Elefante(s)...\n",
      "3 Buraco(s)...\n",
      "3 Dinheiro(s)...\n",
      "3 Pato(s)...\n",
      "4 Elefante(s)...\n",
      "4 Buraco(s)...\n",
      "4 Dinheiro(s)...\n",
      "4 Pato(s)...\n",
      "5 Elefante(s)...\n",
      "5 Buraco(s)...\n",
      "5 Dinheiro(s)...\n",
      "5 Pato(s)...\n",
      "6 Elefante(s)...\n",
      "6 Buraco(s)...\n",
      "6 Dinheiro(s)...\n",
      "6 Pato(s)...\n",
      "7 Elefante(s)...\n",
      "7 Pato(s)...\n",
      "7 Dinheiro(s)...\n",
      "7 Buraco(s)...\n",
      "8 Elefante(s)...\n",
      "8 Pato(s)...\n",
      "8 Dinheiro(s)...\n",
      "8 Buraco(s)...\n",
      "9 Elefante(s)...9 Pato(s)...\n",
      "\n",
      "9 Dinheiro(s)...\n",
      "10 Pato(s)...\n",
      "10 Elefante(s)...\n",
      "10 Dinheiro(s)...\n",
      "11 Pato(s)...11 Dinheiro(s)...\n",
      "\n",
      "12 Dinheiro(s)...\n",
      "12 Pato(s)...\n",
      "13 Dinheiro(s)...\n",
      "14 Dinheiro(s)...\n",
      "15 Dinheiro(s)...\n",
      "16 Dinheiro(s)...\n",
      "17 Dinheiro(s)...\n",
      "18 Dinheiro(s)...\n",
      "19 Dinheiro(s)...\n",
      "20 Dinheiro(s)...\n",
      "21 Dinheiro(s)...\n",
      "22 Dinheiro(s)...\n",
      "23 Dinheiro(s)...\n",
      "Pronto!\n"
     ]
    }
   ],
   "source": [
    "import threading\n",
    "import time\n",
    "\n",
    "\n",
    "def contar(o_que: str, vezes: int) -> None:\n",
    "    for vez in range(1, vezes + 1):\n",
    "        print(f\"{vez} {o_que}(s)...\")\n",
    "        time.sleep(1)\n",
    "\n",
    "\n",
    "def main() -> None:\n",
    "    threads = [\n",
    "        threading.Thread(target=contar, args=(\"Elefante\", 10)),\n",
    "        threading.Thread(target=contar, args=(\"Buraco\", 8)),\n",
    "        threading.Thread(target=contar, args=(\"Dinheiro\", 23)),\n",
    "        threading.Thread(target=contar, args=(\"Pato\", 12)),\n",
    "    ]\n",
    "\n",
    "    [th.start() for th in threads]\n",
    "\n",
    "    print(\"Após o start() e antes do join().\")\n",
    "\n",
    "    [th.join() for th in threads]\n",
    "\n",
    "    print(\"Pronto!\")\n",
    "\n",
    "\n",
    "if __name__ == \"__main__\":\n",
    "    main()"
   ]
  },
  {
   "cell_type": "markdown",
   "source": [
    "Podemos observar que a ordem não é mantida, a execução das Threads depende do sistema de escalonamento de processos\n",
    "gerido pelo SO, ele decide quando e por quanto tempo determinada Thread será executada no Processador."
   ],
   "metadata": {
    "collapsed": false
   }
  }
 ],
 "metadata": {
  "kernelspec": {
   "display_name": "Python 3 (ipykernel)",
   "language": "python",
   "name": "python3"
  },
  "language_info": {
   "codemirror_mode": {
    "name": "ipython",
    "version": 3
   },
   "file_extension": ".py",
   "mimetype": "text/x-python",
   "name": "python",
   "nbconvert_exporter": "python",
   "pygments_lexer": "ipython3",
   "version": "3.11.0"
  }
 },
 "nbformat": 4,
 "nbformat_minor": 1
}
