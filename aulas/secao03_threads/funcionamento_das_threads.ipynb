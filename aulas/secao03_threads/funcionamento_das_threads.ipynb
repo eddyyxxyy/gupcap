{
 "cells": [
  {
   "cell_type": "markdown",
   "source": [
    "# Entendendo o funcionamento das Threads\n",
    "\n",
    "Quando um programa é executado, é criado um processo Python e uma Thread (linha de execução) é iniciada para executar o programa.\n",
    "Essa Thread é a principal, qualquer outra Thread criada neste processo será filha desta Thread principal. Desta forma, uma estrutura\n",
    "hierárquica de Threads é criada.\n",
    "\n",
    "Quando instanciamos a Thread e ainda não executamos os métodos start() e join() o status da nova Thread é New e, se consultarmos os\n",
    "processos Python em execução em nosso computador, veremos que foram criadas duas Threads (duas linhas de execução), apesar de termos\n",
    "criado diretamente somente uma.\n",
    "\n",
    "À partir do momento que executamos o método start() do objeto Thread, ela fica disponível (Ready State) para o sistema operacional\n",
    "para ser agendada sua execução conforme a disponibilidade do processador. Então, quando executamos o método join(), ela fica\n",
    "não somente com o status \"Running\", mas também ativa o Main Thread Block que faz com que qualquer outra coisa só seja executada depois\n",
    "da Thread finalizar seu trabalho."
   ],
   "metadata": {
    "collapsed": false
   }
  },
  {
   "cell_type": "markdown",
   "source": [
    "# Ciclo de Vida das Threads\n",
    "\n",
    "Toda Thread pode ficar alternando entre os estados \"New\"(Nova), \"Ready\"(Pronta), \"Running\"(Executando),\n",
    "\"Blocked\"(Bloqueada) e \"Terminated\"(Finalizada).\n",
    "\n",
    "Em um programa com múltiplas Threads, cada Thread tem seu próprio registrador e pilha de execução. Porém,\n",
    "uma Thread pode ler ou modificar dados de qualquer outra Thread que faz parte de um mesmo processo."
   ],
   "metadata": {
    "collapsed": false
   }
  },
  {
   "cell_type": "markdown",
   "source": [
    "# Agendador (Scheduler)\n",
    "\n",
    "Sistemas Operacionais possuem um módulo que seleciona as próximas tarefas a serem admitidas no sistema e\n",
    "desta forma o próximo processo a ser executado.\n",
    "\n",
    "Ou seja, quando um processo é executado, o Sistema Operacional utiliza um algoritmo de escalonamento (que\n",
    "difere entre cada Sistema Operacional) de processos que organiza e gerência novos processos. Este algoritmo\n",
    "possui um agendador, chamado \"Scheduler\", que controla quando um processo ou Thread irá executar e por quanto\n",
    "tempo será executada.\n",
    "\n",
    "Conforme observamos no Ciclo de Vida das Threads, uma Thread pode \"navegar\" pelos estados até estar finalizada.\n",
    "\n",
    "Quando o Agendador alterna entre uma Thread e outra para execução ele usa um recurso chamado \"Context\n",
    "Switch\", que salva e restaura o estado da Thread ou Processo.\n",
    "\n",
    "OBS: quando o Agendador usa o \"Context Switch\" e o que está sendo alterado é uma Thread pertencente a um mesmo\n",
    "processo é gasto menos recursos do processador. Quando o que é alternado é uma Thread pertencente à outro processo\n",
    "ou outro processo, o processador gasta muito mais recursos.\n",
    "\n",
    "Isso significa que, teoricamente, criar programas Multi-Threads gasta menos recursos computacionais que programas\n",
    "Multi-Processos, porém, ao usar Multi-Threads em um programa podemos nos deparar facilmente com um problema de\n",
    "interferência de Threads, conhecida como \"Race Conditions\", que é quando o processo de uma Thread interfere nos\n",
    "resultados de outra.\n",
    "\n",
    "Iremos ver isso, na prática, nos exercícios que faremos nas próximas anotações."
   ],
   "metadata": {
    "collapsed": false
   }
  }
 ],
 "metadata": {
  "kernelspec": {
   "display_name": "Python 3",
   "language": "python",
   "name": "python3"
  },
  "language_info": {
   "codemirror_mode": {
    "name": "ipython",
    "version": 2
   },
   "file_extension": ".py",
   "mimetype": "text/x-python",
   "name": "python",
   "nbconvert_exporter": "python",
   "pygments_lexer": "ipython2",
   "version": "2.7.6"
  }
 },
 "nbformat": 4,
 "nbformat_minor": 0
}
