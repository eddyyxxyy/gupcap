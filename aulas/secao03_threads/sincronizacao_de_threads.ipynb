{
 "cells": [
  {
   "cell_type": "markdown",
   "source": [
    "# Sincronização de Threads\n",
    "\n",
    "Quando trabalhamos com Multi-Threads é recomendável que tentemos manter ao\n",
    "mínimo possível de recursos compartilhados pelas Threads.\n",
    "\n",
    "Ou seja, evite que uma Thread dependa de dados ou recursos que outra Thread\n",
    "possa manipular.\n",
    "\n",
    "Quanto maior o nível de compartilhamento de recursos/dados/memória através\n",
    "das Threads no programa, mais complexo será o gerenciamento e os resultados\n",
    "podem ser inesperados.\n",
    "\n",
    "Para ajudar a contornar os problemas de interferência em Threads (\"Race\n",
    "Conditions\"), existem diversos mecanismos que nos ajudam a controlar o\n",
    "acesso a determinado recurso por uma Thread."
   ],
   "metadata": {
    "collapsed": false
   }
  },
  {
   "cell_type": "markdown",
   "source": [
    "## Lock\n",
    "\n",
    "O principal e mais fundamental mecanismo de controle de Threads para acesso aos\n",
    "recursos é o Lock.\n",
    "\n",
    "O Lock, como o próprio nome sugere, é um recurso de bloqueio. Ou seja, o usamos\n",
    "para que a Thread bloqueie o acesso à determinado recurso.\n",
    "\n",
    "Este mecanismo possui dois estados:\n",
    "\n",
    "- Unlock (Desbloqueado);\n",
    "- Lock (Bloqueado);\n",
    "\n",
    "Quando uma Thread realiza um Lock em um recurso, ela faz com que nenhuma outra\n",
    "Thread tenha acesso ao recurso específico e a única Thread que pode realizar o\n",
    "Unlock é ela mesma.\n",
    "\n",
    "Uma Thread adquire um Lock utilizando o método acquire() e realiza o Unlock com\n",
    "o método release()."
   ],
   "metadata": {
    "collapsed": false
   }
  },
  {
   "cell_type": "code",
   "execution_count": 3,
   "outputs": [
    {
     "name": "stdout",
     "output_type": "stream",
     "text": [
      "1 elefante(s)...\n",
      "2 elefante(s)...\n",
      "3 elefante(s)...\n",
      "4 elefante(s)...\n",
      "5 elefante(s)...\n",
      "6 elefante(s)...\n",
      "7 elefante(s)...\n",
      "8 elefante(s)...\n",
      "9 elefante(s)...\n",
      "10 elefante(s)...\n"
     ]
    }
   ],
   "source": [
    "import threading\n",
    "import time\n",
    "\n",
    "\n",
    "def main() -> None:\n",
    "    th = threading.Thread(target=contar, args=(\"elefante\", 10))\n",
    "\n",
    "    lock = threading.RLock()\n",
    "\n",
    "    # Lock\n",
    "    with lock:\n",
    "        # Realiza qualquer operação com o recurso bloqueado para outras Threads...\n",
    "        th.start()\n",
    "        th.join()\n",
    "\n",
    "\n",
    "def contar(o_que, vezes) -> any:\n",
    "    for n in range(1, vezes + 1):\n",
    "        print(f\"{n} {o_que}(s)...\")\n",
    "        time.sleep(1)\n",
    "\n",
    "\n",
    "if __name__ == \"__main__\":\n",
    "    main()"
   ],
   "metadata": {
    "collapsed": false
   }
  }
 ],
 "metadata": {
  "kernelspec": {
   "display_name": "Python 3",
   "language": "python",
   "name": "python3"
  },
  "language_info": {
   "codemirror_mode": {
    "name": "ipython",
    "version": 2
   },
   "file_extension": ".py",
   "mimetype": "text/x-python",
   "name": "python",
   "nbconvert_exporter": "python",
   "pygments_lexer": "ipython2",
   "version": "2.7.6"
  }
 },
 "nbformat": 4,
 "nbformat_minor": 0
}
