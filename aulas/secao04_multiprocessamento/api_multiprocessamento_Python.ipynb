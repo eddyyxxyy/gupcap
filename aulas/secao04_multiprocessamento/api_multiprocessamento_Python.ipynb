{
 "cells": [
  {
   "cell_type": "markdown",
   "source": [
    "# Conhecendo a API de Multiprocessamento Python\n",
    "\n",
    "Uma das coisas que fazem a computação, em geral, ter sucesso é a padronização.\n",
    "\n",
    "Por exemplo, se analisarmos uma implementação simples de Thread em Python temos:"
   ],
   "metadata": {
    "collapsed": false
   }
  },
  {
   "cell_type": "code",
   "execution_count": 2,
   "outputs": [
    {
     "name": "stdout",
     "output_type": "stream",
     "text": [
      "Fazendo algo com o \"1\" do tipo <class 'int'>.\n",
      "Fazendo algo com o \"1.5\" do tipo <class 'float'>.\n",
      "Fazendo algo com o \"Edson\" do tipo <class 'str'>.\n"
     ]
    }
   ],
   "source": [
    "import threading\n",
    "\n",
    "\n",
    "def faz_algo(*args: int | float | str) -> None:\n",
    "    for arg in args:\n",
    "        print(f'Fazendo algo com o \"{arg}\" do tipo {type(arg)}.')\n",
    "\n",
    "\n",
    "def main() -> None:\n",
    "    th = threading.Thread(target=faz_algo, args=(1, 1.5, \"Edson\"))\n",
    "\n",
    "    th.start()\n",
    "    th.join()\n",
    "\n",
    "\n",
    "if __name__ == \"__main__\":\n",
    "    main()"
   ],
   "metadata": {
    "collapsed": false
   }
  },
  {
   "cell_type": "markdown",
   "source": [
    "Agora, para comparação, observe a implementação simples de Processos em Python:"
   ],
   "metadata": {
    "collapsed": false
   }
  },
  {
   "cell_type": "code",
   "execution_count": 3,
   "outputs": [
    {
     "name": "stdout",
     "output_type": "stream",
     "text": [
      "Fazendo algo com o \"1\" do tipo <class 'int'>.\n",
      "Fazendo algo com o \"1.5\" do tipo <class 'float'>.\n",
      "Fazendo algo com o \"Edson\" do tipo <class 'str'>.\n"
     ]
    }
   ],
   "source": [
    "import multiprocessing\n",
    "\n",
    "\n",
    "def faz_algo(*args: int | float | str) -> None:\n",
    "    for arg in args:\n",
    "        print(f'Fazendo algo com o \"{arg}\" do tipo {type(arg)}.')\n",
    "\n",
    "\n",
    "def main() -> None:\n",
    "    mp = multiprocessing.Process(target=faz_algo, args=(1, 1.5, \"Edson\"))\n",
    "\n",
    "    mp.start()\n",
    "    mp.join()\n",
    "\n",
    "\n",
    "if __name__ == \"__main__\":\n",
    "    main()"
   ],
   "metadata": {
    "collapsed": false
   }
  },
  {
   "cell_type": "markdown",
   "source": [
    "Percebemos, logo de cara, a sintaxe para a construção de Multiprocessamento é praticamente igual\n",
    "à sintaxe de Multithreading.\n",
    "\n",
    "Esta padronização nos ajuda a alternar entre uma API e outra e realizarmos testes de desempenho\n",
    "ou qualquer outra coisa de maneira fácil.\n",
    "\n",
    "Desta forma você pode imaginar que o construtor da classe Thread é parecida com o da classe\n",
    "Process. Algo legal a ser notado é que a classe Process herda da classe BaseProcess.\n",
    "\n",
    "Construtor da classe Thread:\n",
    "\n",
    "```python\n",
    "class Thread:\n",
    "    \"\"\"A class that represents a thread of control.\n",
    "\n",
    "    This class can be safely subclassed in a limited fashion. There are two ways\n",
    "    to specify the activity: by passing a callable object to the constructor, or\n",
    "    by overriding the run() method in a subclass.\n",
    "\n",
    "    \"\"\"\n",
    "\n",
    "    _initialized = False\n",
    "\n",
    "    def __init__(self, group=None, target=None, name=None,\n",
    "                 args=(), kwargs=None, *, daemon=None):\n",
    "        ...\n",
    "```\n",
    "\n",
    "Construtor da classe Process:\n",
    "\n",
    "```python\n",
    "class BaseProcess(object):\n",
    "    '''\n",
    "    Process objects represent activity that is run in a separate process\n",
    "\n",
    "    The class is analogous to `threading.Thread`\n",
    "    '''\n",
    "    def _Popen(self):\n",
    "        raise NotImplementedError\n",
    "\n",
    "    def __init__(self, group=None, target=None, name=None, args=(), kwargs={},\n",
    "                 *, daemon=None):\n",
    "        ...\n",
    "\n",
    "\n",
    "class Process(process.BaseProcess):\n",
    "    _start_method = None\n",
    "    @staticmethod\n",
    "    def _Popen(process_obj):\n",
    "        return _default_context.get_context().Process._Popen(process_obj)\n",
    "\n",
    "    @staticmethod\n",
    "    def _after_fork():\n",
    "        return _default_context.get_context().Process._after_fork()\n",
    "\n",
    "```\n",
    "\n"
   ],
   "metadata": {
    "collapsed": false
   }
  }
 ],
 "metadata": {
  "kernelspec": {
   "display_name": "Python 3",
   "language": "python",
   "name": "python3"
  },
  "language_info": {
   "codemirror_mode": {
    "name": "ipython",
    "version": 2
   },
   "file_extension": ".py",
   "mimetype": "text/x-python",
   "name": "python",
   "nbconvert_exporter": "python",
   "pygments_lexer": "ipython2",
   "version": "2.7.6"
  }
 },
 "nbformat": 4,
 "nbformat_minor": 0
}
