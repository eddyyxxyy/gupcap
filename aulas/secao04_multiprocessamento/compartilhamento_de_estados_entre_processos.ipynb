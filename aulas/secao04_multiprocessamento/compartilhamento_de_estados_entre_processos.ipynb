{
 "cells": [
  {
   "cell_type": "markdown",
   "source": [
    "# Compartilhamento de Estados entre Processos\n",
    "\n",
    "Antes de partirmos para os detalhes sobre o tema, é bom relembrar que\n",
    "o recomendado é não compartilhar nada ou o mínimo possível de recursos/memória/dados\n",
    "entre Threads/Processos.\n",
    "\n",
    "Isso por que quando recursos/memória/dados são compartilhados, tudo\n",
    "se torna mais complexo e o gerenciamento de Threads/Processos deixará seu código\n",
    "mais complicado.\n",
    "\n",
    "Quando falamos em compartilhar \"Estados\" você deve lembrar dos conceitos\n",
    "de Orientação a Objetos, onde Classes possuem estados (atributos) e métodos.\n",
    "\n",
    "A ideia aqui não é trabalhar com objetos, mas com valores simples realizando o\n",
    "Compartilhamento de Memória.\n",
    "\n",
    "### Compartilhamento de Memória\n",
    "\n",
    "Recomendado caso você precise compartilhar uma variável de valor único ou arrays\n",
    "entre seus processos. Utilizando as classes:\n",
    "\n",
    "- multiprocessing.Value;\n",
    "- multiprocessing.Array.\n",
    "\n",
    "Mas um detalhe à se mencionar é que os Arrays da classe Array são como os Arrays\n",
    "da linguagem de programação C, onde os Arrays tem valores de tipo único contidos\n",
    "na coleção, diferente dos Arrays Python que suportam todo tipo de dado dentro de si\n",
    "simultaneamente."
   ],
   "metadata": {
    "collapsed": false
   }
  },
  {
   "cell_type": "code",
   "execution_count": 4,
   "outputs": [
    {
     "name": "stdout",
     "output_type": "stream",
     "text": [
      "O resultado da funcao2 é: 140\n",
      "O resultado da funcao1 é: 120\n"
     ]
    }
   ],
   "source": [
    "import multiprocessing\n",
    "import time\n",
    "\n",
    "\n",
    "def funcao1(val: int | float, stat: bool) -> None:\n",
    "    if stat:\n",
    "        res = val + 10\n",
    "        stat = False\n",
    "    else:\n",
    "        res = val + 20\n",
    "        val = 200\n",
    "        stat = True\n",
    "    print(f\"O resultado da funcao1 é: {res}\")\n",
    "    time.sleep(0.001)\n",
    "\n",
    "\n",
    "def funcao2(val: int | float, stat: bool) -> None:\n",
    "    if stat:\n",
    "        res = val + 30\n",
    "        stat = False\n",
    "    else:\n",
    "        res = val + 40\n",
    "        val = 400\n",
    "        stat = True\n",
    "    print(f\"O resultado da funcao2 é: {res}\")\n",
    "    time.sleep(0.001)\n",
    "\n",
    "\n",
    "def main() -> None:\n",
    "    valor = 100\n",
    "    status = False\n",
    "\n",
    "    pcs = [\n",
    "        multiprocessing.Process(target=funcao1, args=(valor, status)),\n",
    "        multiprocessing.Process(target=funcao2, args=(valor, status)),\n",
    "    ]\n",
    "    [pc.start() for pc in pcs]\n",
    "    [pc.join() for pc in pcs]\n",
    "\n",
    "\n",
    "if __name__ == \"__main__\":\n",
    "    main()"
   ],
   "metadata": {
    "collapsed": false
   }
  },
  {
   "cell_type": "code",
   "execution_count": 5,
   "outputs": [
    {
     "name": "stdout",
     "output_type": "stream",
     "text": [
      "O resultado da funcao1 é: 120\n",
      "O resultado da funcao2 é: 230\n"
     ]
    }
   ],
   "source": [
    "import ctypes\n",
    "\n",
    "\n",
    "def funcao1(val: int | float, stat: bool) -> None:\n",
    "    if stat.value:\n",
    "        res = val.value + 10\n",
    "        stat.value = False\n",
    "    else:\n",
    "        res = val.value + 20\n",
    "        val.value = 200\n",
    "        stat.value = True\n",
    "    print(f\"O resultado da funcao1 é: {res}\")\n",
    "    time.sleep(0.001)\n",
    "\n",
    "\n",
    "def funcao2(val: int | float, stat: bool) -> None:\n",
    "    if stat.value:\n",
    "        res = val.value + 30\n",
    "        stat.value = False\n",
    "    else:\n",
    "        res = val.value + 40\n",
    "        val.value = 400\n",
    "        stat.value = True\n",
    "    print(f\"O resultado da funcao2 é: {res}\")\n",
    "    time.sleep(0.001)\n",
    "\n",
    "\n",
    "def main() -> None:\n",
    "    valor = multiprocessing.Value(\"i\", 100)\n",
    "    status = multiprocessing.Value(ctypes.c_bool, False)\n",
    "\n",
    "    pcs = [\n",
    "        multiprocessing.Process(target=funcao1, args=(valor, status)),\n",
    "        multiprocessing.Process(target=funcao2, args=(valor, status)),\n",
    "    ]\n",
    "    [pc.start() for pc in pcs]\n",
    "    [pc.join() for pc in pcs]\n",
    "\n",
    "\n",
    "if __name__ == \"__main__\":\n",
    "    main()"
   ],
   "metadata": {
    "collapsed": false
   }
  }
 ],
 "metadata": {
  "kernelspec": {
   "display_name": "Python 3",
   "language": "python",
   "name": "python3"
  },
  "language_info": {
   "codemirror_mode": {
    "name": "ipython",
    "version": 2
   },
   "file_extension": ".py",
   "mimetype": "text/x-python",
   "name": "python",
   "nbconvert_exporter": "python",
   "pygments_lexer": "ipython2",
   "version": "2.7.6"
  }
 },
 "nbformat": 4,
 "nbformat_minor": 0
}
