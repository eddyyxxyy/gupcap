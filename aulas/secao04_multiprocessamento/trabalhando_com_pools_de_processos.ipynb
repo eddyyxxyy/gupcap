{
 "cells": [
  {
   "cell_type": "markdown",
   "source": [
    "# Trabalhando com Pools de Processos\n",
    "\n",
    "Uma Pool (piscina) de Processos nada mais é que Multiprocessos que você cria para\n",
    "realizar determinada tarefa.\n",
    "\n",
    "Podemos mapear as tarefas (funções) para serem executados pelo projeto através do\n",
    "método map() da Pool."
   ],
   "metadata": {
    "collapsed": false
   }
  },
  {
   "cell_type": "code",
   "execution_count": 3,
   "outputs": [
    {
     "name": "stdout",
     "output_type": "stream",
     "text": [
      "Tamanho da Pool: 16\n",
      "Saídas: [0, 1, 4, 9, 16, 25, 36]\n"
     ]
    }
   ],
   "source": [
    "import multiprocessing\n",
    "\n",
    "\n",
    "def calcular(value: int | float) -> int | float:\n",
    "    return value**2\n",
    "\n",
    "\n",
    "def main() -> None:\n",
    "    # Quantidade de cores da máquina vezes 2\n",
    "    tamanho_pool = multiprocessing.cpu_count() * 2\n",
    "    print(f\"Tamanho da Pool: {tamanho_pool}\")\n",
    "    # Tamanho da Pool de Processos\n",
    "    pool = multiprocessing.Pool(tamanho_pool)\n",
    "\n",
    "    entradas = list(range(7))\n",
    "    saidas = pool.map(calcular, entradas)\n",
    "\n",
    "    print(f\"Saídas: {saidas}\")\n",
    "\n",
    "    pool.close()\n",
    "    pool.join()\n",
    "\n",
    "\n",
    "if __name__ == \"__main__\":\n",
    "    main()"
   ],
   "metadata": {
    "collapsed": false
   }
  },
  {
   "cell_type": "markdown",
   "source": [
    "## Agora, para mostrar os processos sendo executados:"
   ],
   "metadata": {
    "collapsed": false
   }
  },
  {
   "cell_type": "code",
   "execution_count": 5,
   "outputs": [
    {
     "name": "stdout",
     "output_type": "stream",
     "text": [
      "Tamanho da Pool: 16\n",
      "Iniciando o processo com o nome ForkPoolWorker-65\n",
      "Iniciando o processo com o nome ForkPoolWorker-66\n",
      "Iniciando o processo com o nome ForkPoolWorker-67\n",
      "Iniciando o processo com o nome ForkPoolWorker-68\n",
      "Iniciando o processo com o nome ForkPoolWorker-69\n",
      "Iniciando o processo com o nome ForkPoolWorker-70\n",
      "Iniciando o processo com o nome ForkPoolWorker-71\n",
      "Iniciando o processo com o nome ForkPoolWorker-72\n",
      "Iniciando o processo com o nome ForkPoolWorker-73\n",
      "Iniciando o processo com o nome ForkPoolWorker-74\n",
      "Iniciando o processo com o nome ForkPoolWorker-77\n",
      "Iniciando o processo com o nome ForkPoolWorker-78\n",
      "Iniciando o processo com o nome ForkPoolWorker-79\n",
      "Iniciando o processo com o nome ForkPoolWorker-80\n",
      "Iniciando o processo com o nome ForkPoolWorker-76Iniciando o processo com o nome ForkPoolWorker-75\n",
      "\n",
      "Saídas: [0, 1, 4, 9, 16, 25, 36]\n"
     ]
    }
   ],
   "source": [
    "import multiprocessing\n",
    "\n",
    "\n",
    "def calcular(value: int | float) -> int | float:\n",
    "    return value**2\n",
    "\n",
    "\n",
    "def imprimir_nome_processo() -> None:\n",
    "    print(\n",
    "        f\"Iniciando o processo com o nome {multiprocessing.current_process().name}\"\n",
    "    )\n",
    "\n",
    "\n",
    "def main() -> None:\n",
    "    # Quantidade de cores da máquina vezes 2\n",
    "    tamanho_pool = multiprocessing.cpu_count() * 2\n",
    "    print(f\"Tamanho da Pool: {tamanho_pool}\")\n",
    "    # Tamanho da Pool de Processos\n",
    "    pool = multiprocessing.Pool(\n",
    "        tamanho_pool, initializer=imprimir_nome_processo\n",
    "    )\n",
    "\n",
    "    entradas = list(range(7))\n",
    "    saidas = pool.map(calcular, entradas)\n",
    "\n",
    "    print(f\"Saídas: {saidas}\")\n",
    "\n",
    "    pool.close()\n",
    "    pool.join()\n",
    "\n",
    "\n",
    "if __name__ == \"__main__\":\n",
    "    main()"
   ],
   "metadata": {
    "collapsed": false
   }
  }
 ],
 "metadata": {
  "kernelspec": {
   "display_name": "Python 3",
   "language": "python",
   "name": "python3"
  },
  "language_info": {
   "codemirror_mode": {
    "name": "ipython",
    "version": 2
   },
   "file_extension": ".py",
   "mimetype": "text/x-python",
   "name": "python",
   "nbconvert_exporter": "python",
   "pygments_lexer": "ipython2",
   "version": "2.7.6"
  }
 },
 "nbformat": 4,
 "nbformat_minor": 0
}
