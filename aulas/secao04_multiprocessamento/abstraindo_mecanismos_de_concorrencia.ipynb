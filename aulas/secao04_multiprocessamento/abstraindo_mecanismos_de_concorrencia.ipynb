{
 "cells": [
  {
   "cell_type": "markdown",
   "metadata": {},
   "source": [
    "# Abstraindo Mecanismos de Concorrência\n",
    "\n",
    "Qual a diferença, em questão de código, entre criar um programa que utiliza\n",
    "concorrência através de Threads e Processos?\n",
    "\n",
    "Através dos mecanismos de abstração da API de concorrências podemos alternar\n",
    "entre duas implementações de concorrência diferentes (Threads e Processos) com\n",
    "apenas uma linha."
   ]
  },
  {
   "cell_type": "code",
   "execution_count": 1,
   "metadata": {},
   "outputs": [
    {
     "name": "stdout",
     "output_type": "stream",
     "text": [
      "[##########]"
     ]
    }
   ],
   "source": [
    "# Com Threads\n",
    "import threading\n",
    "import time\n",
    "\n",
    "\n",
    "def processar() -> None:\n",
    "    print(\"[\", end=\"\", flush=True)\n",
    "    for _ in range(1, 11):\n",
    "        print(\"#\", end=\"\", flush=True)\n",
    "        time.sleep(1)\n",
    "    print(\"]\", end=\"\", flush=True)\n",
    "\n",
    "\n",
    "if __name__ == \"__main__\":\n",
    "    ex = threading.Thread(target=processar)\n",
    "    ex.start()\n",
    "    ex.join()"
   ]
  },
  {
   "cell_type": "code",
   "execution_count": 2,
   "metadata": {},
   "outputs": [
    {
     "name": "stdout",
     "output_type": "stream",
     "text": [
      "[##########]"
     ]
    }
   ],
   "source": [
    "# Com Processos\n",
    "import multiprocessing\n",
    "import time\n",
    "\n",
    "\n",
    "def processar() -> None:\n",
    "    print(\"[\", end=\"\", flush=True)\n",
    "    for _ in range(1, 11):\n",
    "        print(\"#\", end=\"\", flush=True)\n",
    "        time.sleep(1)\n",
    "    print(\"]\", end=\"\", flush=True)\n",
    "\n",
    "\n",
    "if __name__ == \"__main__\":\n",
    "    ex = multiprocessing.Process(target=processar)\n",
    "    ex.start()\n",
    "    ex.join()"
   ]
  },
  {
   "cell_type": "code",
   "execution_count": 5,
   "metadata": {},
   "outputs": [
    {
     "name": "stdout",
     "output_type": "stream",
     "text": [
      "[##########]O retorno foi 42\n"
     ]
    }
   ],
   "source": [
    "# Abstraindo a implementação\n",
    "from concurrent.futures.thread import ThreadPoolExecutor as Executer\n",
    "\n",
    "\n",
    "def processar() -> int:\n",
    "    print(\"[\", end=\"\", flush=True)\n",
    "    for _ in range(1, 11):\n",
    "        print(\"#\", end=\"\", flush=True)\n",
    "        time.sleep(1)\n",
    "    print(\"]\", end=\"\", flush=True)\n",
    "    return 42\n",
    "\n",
    "\n",
    "if __name__ == \"__main__\":\n",
    "    with Executer() as executer:\n",
    "        future = executer.submit(processar)\n",
    "    print(f\"O retorno foi {future.result()}\")"
   ]
  },
  {
   "cell_type": "code",
   "execution_count": null,
   "outputs": [],
   "source": [
    "# from concurrent.futures.process import ProcessPoolExecutor as Executer"
   ],
   "metadata": {
    "collapsed": false
   }
  }
 ],
 "metadata": {
  "kernelspec": {
   "display_name": "Python 3 (ipykernel)",
   "language": "python",
   "name": "python3"
  },
  "language_info": {
   "codemirror_mode": {
    "name": "ipython",
    "version": 3
   },
   "file_extension": ".py",
   "mimetype": "text/x-python",
   "name": "python",
   "nbconvert_exporter": "python",
   "pygments_lexer": "ipython3",
   "version": "3.11.0"
  }
 },
 "nbformat": 4,
 "nbformat_minor": 1
}
