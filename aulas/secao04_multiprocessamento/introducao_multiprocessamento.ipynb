{
 "cells": [
  {
   "cell_type": "markdown",
   "source": [
    "# Introdução ao Multiprocessamento\n",
    "\n",
    "Sabemos que ao executar um programa Python é criado um Processo e para este processo\n",
    "é criada uma Thread (Main Thread/Thread Principal).\n",
    "\n",
    "Também sabemos que quando criamos Múltiplas Threads estamos sujeitos às limitações\n",
    "impostas pelo GIL do Python, que bloqueia parte do código para que apenas umas Thread\n",
    "execute em simultâneo.\n",
    "\n",
    "O Multiprocessamento existe para resolver este problema.\n",
    "\n",
    "Mas, de fato, Multiprocessamento não \"resolve\" o problema do GIL de uma Thread, só faz\n",
    "com que uma Thread não fique bloqueada de outra Thread. Desta forma, o processamento\n",
    "ocorre de forma mais rápida."
   ],
   "metadata": {
    "collapsed": false
   }
  }
 ],
 "metadata": {
  "kernelspec": {
   "display_name": "Python 3",
   "language": "python",
   "name": "python3"
  },
  "language_info": {
   "codemirror_mode": {
    "name": "ipython",
    "version": 2
   },
   "file_extension": ".py",
   "mimetype": "text/x-python",
   "name": "python",
   "nbconvert_exporter": "python",
   "pygments_lexer": "ipython2",
   "version": "2.7.6"
  }
 },
 "nbformat": 4,
 "nbformat_minor": 0
}
