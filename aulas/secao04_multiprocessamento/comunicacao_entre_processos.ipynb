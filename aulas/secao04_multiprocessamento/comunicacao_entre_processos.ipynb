{
 "cells": [
  {
   "cell_type": "markdown",
   "source": [
    "# Comunicação entre Processos\n",
    "\n",
    "Aprendemos em aulas passadas que em um processo podemos ter várias Threads que\n",
    "compartilham (ou podem compartilhar) recursos e memória entre si, em um\n",
    "mesmo Processo.\n",
    "\n",
    "Aprendemos também que uma Thread ou Processo não tem acesso aos recursos e memória\n",
    "de outras Threads e Processos.\n",
    "\n",
    "Pelo menos não de forma direta...\n",
    "\n",
    "Podemos acessar recursos e memória de outros Processos através de dois recursos:\n",
    "\n",
    "Pipe e Queue.\n",
    "\n",
    "Através da classe multiprocessing.Pipe pense que o Pipe seria como um tunelamento,\n",
    "onde em cada uma das pontas dessa conexão há recursos/memória enviados e recebidos,\n",
    "quando um envia, o outro lado escuta.\n",
    "\n",
    "Utilizando Pipe:"
   ],
   "metadata": {
    "collapsed": false
   }
  },
  {
   "cell_type": "code",
   "execution_count": 1,
   "outputs": [
    {
     "name": "stdout",
     "output_type": "stream",
     "text": [
      "Geek University.\n"
     ]
    }
   ],
   "source": [
    "import multiprocessing\n",
    "\n",
    "\n",
    "def ping(conn: multiprocessing.Pipe) -> None:\n",
    "    conn.send(\"Geek\")\n",
    "\n",
    "\n",
    "def pong(conn: multiprocessing.Pipe) -> None:\n",
    "    msg = conn.recv()\n",
    "    print(f\"{msg} University.\")\n",
    "\n",
    "\n",
    "def main() -> None:\n",
    "    conn1, conn2 = multiprocessing.Pipe(True)\n",
    "\n",
    "    procs = [\n",
    "        multiprocessing.Process(target=ping, args=(conn1,)),\n",
    "        multiprocessing.Process(target=pong, args=(conn2,)),\n",
    "    ]\n",
    "    [proc.start() for proc in procs]\n",
    "    [proc.join() for proc in procs]\n",
    "\n",
    "\n",
    "if __name__ == \"__main__\":\n",
    "    main()"
   ],
   "metadata": {
    "collapsed": false
   }
  },
  {
   "cell_type": "markdown",
   "source": [
    "### E quanto à Queues?\n",
    "\n",
    "A vantagem em se utilizar Queues é que elas permitem maior controle sobre\n",
    "o processo que vai usar os dados, podendo ser realizados os locks e\n",
    "unlocks do acesso.\n",
    "\n",
    "Somente dois métodos das Queues não podem ser usados em Processing, tornando\n",
    "o uso de Queues diferente em Threads. Não temos os métodos task_done() e join().\n",
    "\n",
    "Porém, temos a classe JoinableQueue, que mantém esses dois métodos para termos\n",
    "compatibilidade entre APIs de Threads e Processing."
   ],
   "metadata": {
    "collapsed": false
   }
  },
  {
   "cell_type": "code",
   "execution_count": 3,
   "outputs": [
    {
     "name": "stdout",
     "output_type": "stream",
     "text": [
      "Geek University.\n"
     ]
    }
   ],
   "source": [
    "def ping(queue: multiprocessing.Queue) -> None:\n",
    "    queue.put(\"Geek\")\n",
    "\n",
    "\n",
    "def pong(conn: multiprocessing.Queue) -> None:\n",
    "    msg = conn.get()\n",
    "    print(f\"{msg} University.\")\n",
    "\n",
    "\n",
    "def main() -> None:\n",
    "    queue = multiprocessing.Queue()\n",
    "\n",
    "    procs = [\n",
    "        multiprocessing.Process(target=ping, args=(queue,)),\n",
    "        multiprocessing.Process(target=pong, args=(queue,)),\n",
    "    ]\n",
    "    [proc.start() for proc in procs]\n",
    "    [proc.join() for proc in procs]\n",
    "\n",
    "\n",
    "if __name__ == \"__main__\":\n",
    "    main()"
   ],
   "metadata": {
    "collapsed": false
   }
  }
 ],
 "metadata": {
  "kernelspec": {
   "display_name": "Python 3",
   "language": "python",
   "name": "python3"
  },
  "language_info": {
   "codemirror_mode": {
    "name": "ipython",
    "version": 2
   },
   "file_extension": ".py",
   "mimetype": "text/x-python",
   "name": "python",
   "nbconvert_exporter": "python",
   "pygments_lexer": "ipython2",
   "version": "2.7.6"
  }
 },
 "nbformat": 4,
 "nbformat_minor": 0
}
