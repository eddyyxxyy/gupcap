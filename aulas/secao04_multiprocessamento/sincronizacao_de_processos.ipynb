{
 "cells": [
  {
   "cell_type": "markdown",
   "source": [
    "# Sincronização de Processos\n",
    "\n",
    "A Sincronização entre Processos é um mecanismo que se assegura que dois ou mais processos\n",
    "concorrentes não executem, de forma simultânea, algum segmento crítico do código.\n",
    "\n",
    "O Segmento Crítico do seu código é aquele que, caso diferentes Processos façam acesso\n",
    "de forma simultânea e alterem-se os dados, pode causar inconsistência no resultado por\n",
    "conta da já conhecida \"Race Conditions\"."
   ],
   "metadata": {
    "collapsed": false
   }
  },
  {
   "cell_type": "code",
   "execution_count": 25,
   "outputs": [
    {
     "name": "stdout",
     "output_type": "stream",
     "text": [
      "Saldo inicial: 100\n",
      "Saldo final: 100\n"
     ]
    }
   ],
   "source": [
    "import ctypes\n",
    "import multiprocessing\n",
    "\n",
    "\n",
    "def depositar(\n",
    "    saldo: multiprocessing.Value, lock: multiprocessing.RLock\n",
    ") -> None:\n",
    "    for _ in range(10_000):\n",
    "        with lock:\n",
    "            saldo.value += 1\n",
    "\n",
    "\n",
    "def sacar(saldo: multiprocessing.Value, lock: multiprocessing.RLock) -> None:\n",
    "    for _ in range(10_000):\n",
    "        with lock:\n",
    "            saldo.value -= 1\n",
    "\n",
    "\n",
    "def realizar_transacoes(\n",
    "    saldo: multiprocessing.Value, lock: multiprocessing.RLock\n",
    ") -> None:\n",
    "    pc1 = multiprocessing.Process(target=depositar, args=(saldo, lock))\n",
    "    pc2 = multiprocessing.Process(target=sacar, args=(saldo, lock))\n",
    "\n",
    "    pc1.start()\n",
    "    pc2.start()\n",
    "\n",
    "    pc1.join()\n",
    "    pc2.join()\n",
    "\n",
    "\n",
    "if __name__ == \"__main__\":\n",
    "    saldo = multiprocessing.Value(\"i\", 100)\n",
    "    lock = multiprocessing.RLock()\n",
    "    print(f\"Saldo inicial: {saldo.value}\")\n",
    "\n",
    "    for _ in range(10):\n",
    "        realizar_transacoes(saldo, lock)\n",
    "\n",
    "    print(f\"Saldo final: {saldo.value}\")"
   ],
   "metadata": {
    "collapsed": false
   }
  }
 ],
 "metadata": {
  "kernelspec": {
   "display_name": "Python 3",
   "language": "python",
   "name": "python3"
  },
  "language_info": {
   "codemirror_mode": {
    "name": "ipython",
    "version": 2
   },
   "file_extension": ".py",
   "mimetype": "text/x-python",
   "name": "python",
   "nbconvert_exporter": "python",
   "pygments_lexer": "ipython2",
   "version": "2.7.6"
  }
 },
 "nbformat": 4,
 "nbformat_minor": 0
}
