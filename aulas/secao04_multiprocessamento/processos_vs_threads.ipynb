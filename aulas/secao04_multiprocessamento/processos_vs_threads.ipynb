{
 "cells": [
  {
   "cell_type": "markdown",
   "source": [
    "# Processos VS Threads\n",
    "\n",
    "Processo é a instância em execução de um programa.\n",
    "\n",
    "Um Processo cria uma Thread, chamada Thread Principal, para executar o programa.\n",
    "\n",
    "Um Processo pode ter múltiplas Threads. Qualquer Thread além da principal, será \"filha\"\n",
    "da Thread Principal.\n",
    "\n",
    "As Threads de um processo compartilham recursos e memória entre si.\n",
    "\n",
    "Mas as Threads/Processos não* compartilham recursos e memória de outros Processos/Threads.\n",
    "\n",
    "> \\* Existem formas de fazer solicitações ao Sistema Operacional para acessar memória e recursos\n",
    "> de outros processos. Mas este não é nosso caso ou necessidade.\n",
    "\n",
    "Quando ativamos um Lock (acquire), estamos avisando que nenhuma Thread pode acessar determinado\n",
    "recurso até que o lock seja liberado (release).\n",
    "\n",
    "O que deve ficar claro nesta seção é que o Processo \"nasce\" primeiro e somente depois é criada\n",
    "a Thread Principal, todo Processo terá pelo menos uma Thread para executar o programa.\n",
    "\n",
    "Separando a execução de um programa em Multiprocessos ao invés de MultiThread evitamos que o\n",
    "GIL bloqueie a execução em paralelo.\n",
    "\n",
    "Para realizar uma execução de Multiprocessos precisamos primeiro conhecer a API de Multiprocessos\n",
    "do Python."
   ],
   "metadata": {
    "collapsed": false
   }
  }
 ],
 "metadata": {
  "kernelspec": {
   "display_name": "Python 3",
   "language": "python",
   "name": "python3"
  },
  "language_info": {
   "codemirror_mode": {
    "name": "ipython",
    "version": 2
   },
   "file_extension": ".py",
   "mimetype": "text/x-python",
   "name": "python",
   "nbconvert_exporter": "python",
   "pygments_lexer": "ipython2",
   "version": "2.7.6"
  }
 },
 "nbformat": 4,
 "nbformat_minor": 0
}
