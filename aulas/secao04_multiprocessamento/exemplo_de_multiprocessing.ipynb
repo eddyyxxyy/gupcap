{
 "cells": [
  {
   "cell_type": "markdown",
   "source": [
    "# Exemplo de Multiprocessing"
   ],
   "metadata": {
    "collapsed": false
   }
  },
  {
   "cell_type": "code",
   "execution_count": 4,
   "outputs": [
    {
     "name": "stdout",
     "output_type": "stream",
     "text": [
      "Iniciando o processo principal do programa: MainProcess\n",
      "Iniciando o processo com nome Processo Geek\n",
      "Fazendo algo com Pássaros.\n",
      "Fazendo algo com Edson.\n",
      "Após os start()\n",
      "Após os join()\n"
     ]
    }
   ],
   "source": [
    "import multiprocessing\n",
    "\n",
    "print(\n",
    "    f\"Iniciando o processo principal do programa: {multiprocessing.current_process().name}\"\n",
    ")\n",
    "\n",
    "\n",
    "def faz_algo(*args) -> None:\n",
    "    for arg in args:\n",
    "        print(f\"Fazendo algo com {arg}.\")\n",
    "\n",
    "\n",
    "def main() -> None:\n",
    "    pc = multiprocessing.Process(\n",
    "        target=faz_algo, args=(\"Pássaros\", \"Edson\"), name=\"Processo Geek\"\n",
    "    )\n",
    "    print(f\"Iniciando o processo com nome {pc.name}\")\n",
    "    pc.start()\n",
    "    print(\"Após os start()\")\n",
    "    pc.join()\n",
    "    print(\"Após os join()\")\n",
    "\n",
    "\n",
    "if __name__ == \"__main__\":\n",
    "    main()"
   ],
   "metadata": {
    "collapsed": false
   }
  }
 ],
 "metadata": {
  "kernelspec": {
   "display_name": "Python 3",
   "language": "python",
   "name": "python3"
  },
  "language_info": {
   "codemirror_mode": {
    "name": "ipython",
    "version": 2
   },
   "file_extension": ".py",
   "mimetype": "text/x-python",
   "name": "python",
   "nbconvert_exporter": "python",
   "pygments_lexer": "ipython2",
   "version": "2.7.6"
  }
 },
 "nbformat": 4,
 "nbformat_minor": 0
}
