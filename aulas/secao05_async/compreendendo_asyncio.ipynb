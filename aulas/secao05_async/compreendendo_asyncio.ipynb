{
 "cells": [
  {
   "cell_type": "markdown",
   "source": [
    "# Compreendendo o Asyncio\n",
    "\n",
    "O módulo asyncio provê um objeto conhecido como Future que gerencia a execução e\n",
    "representação do eventual resultado de uma computação.\n",
    "\n",
    "O objeto Future possui alguns métodos importantes, dentre eles:\n",
    "\n",
    "cancel(), que cancela o future;\n",
    "\n",
    "done(), que retorna True se o future está completo ou cancelado;\n",
    "\n",
    "result(), que retorna o resultado da computação;\n",
    "\n",
    "exception(), que retorna qualquer exceção levantada durante a execução;\n",
    "\n",
    "add_done_callback(funcao), que adiciona uma função a ser executada após o future finalizar;\n",
    "\n",
    "Ao executar uma função/método assíncrono, devemos usar SEMPRE a palavra reservada await\n",
    "que pausa a execução da função até que esteja completa.\n",
    "\n",
    "O Event Loop para após o future ter finalizado.\n",
    "\n",
    "Lembrando que o future nada mais é do que uma corrotina...\n",
    "\n",
    "Ainda no conceito de Futures, temos a Task que é uma subclasse de Future sendo usada\n",
    "internamente no módulo Asyncio para gerenciar a execução de uma corrotina durante um\n",
    "Event Loop.\n",
    "\n",
    "Com um event loop podemos criar tasks (taferas) com o método create_task().\n",
    "\n",
    "Por fim, uma estrutura de dados eficiente para se usar através do módulo Asyncio é a Queue, já\n",
    "conhecida de aulas passadas.\n",
    "\n",
    "Um código assíncrono é conhecido como non-blocking, ou seja, a execução do código não fica\n",
    "bloqueado por uma operação demorada. A execução continua e volta para buscar o resultado\n",
    "quando a tarefa estiver finalizada.\n",
    "\n",
    "Por fim, uma estrutura de dados eficiente para se usar através do módulo Asyncio é a Queue, já\n",
    "conhecida de aulas passadas.\n",
    "\n",
    "Um código assíncrono é conhecido como non-blocking, ou seja, a execução do código não fica\n",
    "bloqueado por uma operação demorada. A execução continua e volta para buscar o resultado\n",
    "quando a tarefa estiver finalizada."
   ],
   "metadata": {
    "collapsed": false
   }
  },
  {
   "cell_type": "code",
   "execution_count": null,
   "outputs": [],
   "source": [
    "import asyncio\n",
    "import datetime\n",
    "\n",
    "\n",
    "async def gerar_dados(quantidade: int, dados: asyncio.Queue):\n",
    "    print(f\"Aguarde a geração de {quantidade} dados...\")\n",
    "    for idx in range(1, quantidade + 1):\n",
    "        item = idx * idx\n",
    "        await dados.put((item, datetime.datetime.now()))\n",
    "        await asyncio.sleep(0.001)\n",
    "    print(f\"{quantidade} dados gerados com sucesso...\")\n",
    "\n",
    "\n",
    "async def processar_dados(quantidade: int, dados: asyncio.Queue):\n",
    "    print(f\"Aguarde o processamento de {quantidade} dados...\")\n",
    "    processados = 0\n",
    "    while processados < quantidade:\n",
    "        await dados.get()\n",
    "        processados += 1\n",
    "        await asyncio.sleep(0.001)\n",
    "    print(f\"Foram processados {processados} itens.\")\n",
    "\n",
    "\n",
    "if __name__ == \"__main__\":\n",
    "    total = 5_000\n",
    "    dados = asyncio.Queue()\n",
    "    el = asyncio.new_event_loop()\n",
    "\n",
    "    print(f\"Computando {total * 2:.2f} dados.\")\n",
    "\n",
    "    el.run_until_complete(gerar_dados(total, dados))\n",
    "    el.run_until_complete(gerar_dados(total, dados))\n",
    "    el.run_until_complete(processar_dados(total * 2, dados))\n",
    "\n",
    "    el.close()"
   ],
   "metadata": {
    "collapsed": false,
    "pycharm": {
     "is_executing": true
    }
   }
  }
 ],
 "metadata": {
  "kernelspec": {
   "display_name": "Python 3",
   "language": "python",
   "name": "python3"
  },
  "language_info": {
   "codemirror_mode": {
    "name": "ipython",
    "version": 2
   },
   "file_extension": ".py",
   "mimetype": "text/x-python",
   "name": "python",
   "nbconvert_exporter": "python",
   "pygments_lexer": "ipython2",
   "version": "2.7.6"
  }
 },
 "nbformat": 4,
 "nbformat_minor": 0
}
