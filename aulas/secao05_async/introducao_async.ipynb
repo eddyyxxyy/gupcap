{
 "cells": [
  {
   "cell_type": "markdown",
   "source": [
    "# Introdução à Programação Assíncrona\n",
    "\n",
    "No início do curso, quando falamos em concorrência vimos que podemos dividi-la em dois tipos\n",
    "principais sendo a Programação Paralela e a Programação Assíncrona.\n",
    "\n",
    "A programação assíncrona é utilizada em operações de leitura ou escrita em dispositivos IO -\n",
    "Entrada/Saída (\"Input/Output\").\n",
    "\n",
    "Ou seja, em operações que podem ser lentas e dependem de um retorno de execução, que\n",
    "pode ser sucesso ou falho.\n",
    "\n",
    "Em um programa, podemos ter “partes” que precisem ser executadas de forma assíncrona.\n",
    "\n",
    "Quando a instrução assíncrona é executada, ao invés do processador ficar esperando sua\n",
    "conclusão ele delega a execução desta sub-tarefa a alguma outra thread ou dispositivo\n",
    "e continua fazendo algum outro trabalho ao invés de esperar a execução destas tarefas.\n",
    "\n",
    "Quando a sub-tarefa assíncrona finaliza a execução a thread principal é notificada e\n",
    "usa os resultados, isso é chamado funções de call-back.\n",
    "\n",
    "Em algumas linguagens de programação, ao invés de utilizar funções call-back são utilizados\n",
    "outros objetos com operações incompletas conhecidos como \"promises\", \"futures\" ou\n",
    "simplesmente tarefa (\"task\");\n",
    "\n",
    "A programação assíncrona é melhor utilizada em tarefas que exigem uso intensivo de IO como:\n",
    "- Leitura ou escrita em bancos de dados;\n",
    "- Chamadas à Web Services (\"APIs\");\n",
    "- Cópia, upload ou download de dados;\n",
    "- Etc;"
   ],
   "metadata": {
    "collapsed": false
   }
  }
 ],
 "metadata": {
  "kernelspec": {
   "display_name": "Python 3",
   "language": "python",
   "name": "python3"
  },
  "language_info": {
   "codemirror_mode": {
    "name": "ipython",
    "version": 2
   },
   "file_extension": ".py",
   "mimetype": "text/x-python",
   "name": "python",
   "nbconvert_exporter": "python",
   "pygments_lexer": "ipython2",
   "version": "2.7.6"
  }
 },
 "nbformat": 4,
 "nbformat_minor": 0
}
