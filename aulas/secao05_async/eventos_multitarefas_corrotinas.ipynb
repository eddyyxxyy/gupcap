{
 "cells": [
  {
   "cell_type": "markdown",
   "metadata": {},
   "source": [
    "# Eventos Multitarefas com Loops de Eventos e Corrotinas\n",
    "\n",
    "\n",
    "## Python Event Loop\n",
    "\n",
    "É através do Loop de Eventos (Event Loop) que executamos multitarefas assíncronas em\n",
    "Python.\n",
    "\n",
    "Este recurso foi incorporado em Python 3.4, mas somente no Python 3.5 em diante que se\n",
    "tornou estável e utilizado até hoje através do módulo asyncio.\n",
    "\n",
    "Fazemos uso de um event loop através de asyncio.get_event_loop()\n",
    "\n",
    "Este método retorna um objeto do tipo AbstractEventLoop que como o próprio nome indica é\n",
    "um objeto abstrato.\n",
    "\n",
    "Através deste objeto, podemos executar o método obj.run_forever() ou\n",
    "obj.run_until_complete(future)*.\n",
    "\n",
    "* Um ‘future’ nada mais é do que uma função assíncrona que pode, ou não, devolver um resultado futuro, ou seja, quando\n",
    "for completada.\n",
    "\n",
    "Ao executar o obj.run_forever() ou obj.run_until_complete(future) podemos parar a execução\n",
    "com obj.stop() e fechar o evento com obj.close().\n",
    "\n",
    "\n",
    "## Multitarefas Cooperativas\n",
    "\n",
    "Em Python, ao executar uma função (tarefa) ela mesmo se autossuspende para permitir que\n",
    "outras tarefas (funções) possam ser executadas.\n",
    "\n",
    "Usando Event Loop, este pode reativar uma tarefa (função) quando um evento de IO\n",
    "(Input/Output) é completado.\n",
    "\n",
    "Isso é chamado multitarefas cooperativas e é aqui que entram as corrotinas.\n",
    "\n",
    "\n",
    "## Corrotinas\n",
    "\n",
    "Estudamos corrotinas no nosso curso de Python.\n",
    "\n",
    "Mas vale lembrar que quando falamos em Corrotinas podemos falar de dois objetos principais:\n",
    "- Função Corrotina;\n",
    "- Objeto Corrotina.\n",
    "\n",
    "\n",
    "## Função Corrotinas\n",
    "\n",
    "A função corrotina é uma função especial que dá ao seu executor o controle do estado desta\n",
    "função, ou seja, a função pode executar, pausar, reexecutar e parar/finalizar.\n",
    "\n",
    "Diferente da forma que aprendemos a criar corrotinas no curso de Python, a partir da versão\n",
    "3.5+ podemos transformar qualquer função comum em corrotina acrescentando a palavra\n",
    "‘async’ na declaração da função.\n",
    "\n",
    "A execução de uma função corrotina retorna um objeto corrotina.\n",
    "\n",
    "\n",
    "### Vamos agora ao código:"
   ]
  },
  {
   "cell_type": "code",
   "execution_count": 10,
   "metadata": {},
   "outputs": [
    {
     "name": "stderr",
     "output_type": "stream",
     "text": [
      "<frozen genericpath>:77: RuntimeWarning: coroutine 'diz_oi_demorado' was never awaited\n",
      "RuntimeWarning: Enable tracemalloc to get the object allocation traceback\n"
     ]
    },
    {
     "ename": "RuntimeError",
     "evalue": "This event loop is already running",
     "output_type": "error",
     "traceback": [
      "\u001B[0;31m---------------------------------------------------------------------------\u001B[0m",
      "\u001B[0;31mRuntimeError\u001B[0m                              Traceback (most recent call last)",
      "Cell \u001B[0;32mIn [10], line 12\u001B[0m\n\u001B[1;32m     10\u001B[0m \u001B[38;5;28;01mif\u001B[39;00m \u001B[38;5;18m__name__\u001B[39m \u001B[38;5;241m==\u001B[39m \u001B[38;5;124m'\u001B[39m\u001B[38;5;124m__main__\u001B[39m\u001B[38;5;124m'\u001B[39m:\n\u001B[1;32m     11\u001B[0m     el \u001B[38;5;241m=\u001B[39m asyncio\u001B[38;5;241m.\u001B[39mget_event_loop()\n\u001B[0;32m---> 12\u001B[0m     \u001B[43mel\u001B[49m\u001B[38;5;241;43m.\u001B[39;49m\u001B[43mrun_until_complete\u001B[49m\u001B[43m(\u001B[49m\u001B[43mdiz_oi_demorado\u001B[49m\u001B[43m(\u001B[49m\u001B[43m)\u001B[49m\u001B[43m)\u001B[49m\n\u001B[1;32m     13\u001B[0m     el\u001B[38;5;241m.\u001B[39mclose()\n",
      "File \u001B[0;32m/usr/lib/python3.11/asyncio/base_events.py:626\u001B[0m, in \u001B[0;36mBaseEventLoop.run_until_complete\u001B[0;34m(self, future)\u001B[0m\n\u001B[1;32m    615\u001B[0m \u001B[38;5;124;03m\"\"\"Run until the Future is done.\u001B[39;00m\n\u001B[1;32m    616\u001B[0m \n\u001B[1;32m    617\u001B[0m \u001B[38;5;124;03mIf the argument is a coroutine, it is wrapped in a Task.\u001B[39;00m\n\u001B[0;32m   (...)\u001B[0m\n\u001B[1;32m    623\u001B[0m \u001B[38;5;124;03mReturn the Future's result, or raise its exception.\u001B[39;00m\n\u001B[1;32m    624\u001B[0m \u001B[38;5;124;03m\"\"\"\u001B[39;00m\n\u001B[1;32m    625\u001B[0m \u001B[38;5;28mself\u001B[39m\u001B[38;5;241m.\u001B[39m_check_closed()\n\u001B[0;32m--> 626\u001B[0m \u001B[38;5;28;43mself\u001B[39;49m\u001B[38;5;241;43m.\u001B[39;49m\u001B[43m_check_running\u001B[49m\u001B[43m(\u001B[49m\u001B[43m)\u001B[49m\n\u001B[1;32m    628\u001B[0m new_task \u001B[38;5;241m=\u001B[39m \u001B[38;5;129;01mnot\u001B[39;00m futures\u001B[38;5;241m.\u001B[39misfuture(future)\n\u001B[1;32m    629\u001B[0m future \u001B[38;5;241m=\u001B[39m tasks\u001B[38;5;241m.\u001B[39mensure_future(future, loop\u001B[38;5;241m=\u001B[39m\u001B[38;5;28mself\u001B[39m)\n",
      "File \u001B[0;32m/usr/lib/python3.11/asyncio/base_events.py:586\u001B[0m, in \u001B[0;36mBaseEventLoop._check_running\u001B[0;34m(self)\u001B[0m\n\u001B[1;32m    584\u001B[0m \u001B[38;5;28;01mdef\u001B[39;00m \u001B[38;5;21m_check_running\u001B[39m(\u001B[38;5;28mself\u001B[39m):\n\u001B[1;32m    585\u001B[0m     \u001B[38;5;28;01mif\u001B[39;00m \u001B[38;5;28mself\u001B[39m\u001B[38;5;241m.\u001B[39mis_running():\n\u001B[0;32m--> 586\u001B[0m         \u001B[38;5;28;01mraise\u001B[39;00m \u001B[38;5;167;01mRuntimeError\u001B[39;00m(\u001B[38;5;124m'\u001B[39m\u001B[38;5;124mThis event loop is already running\u001B[39m\u001B[38;5;124m'\u001B[39m)\n\u001B[1;32m    587\u001B[0m     \u001B[38;5;28;01mif\u001B[39;00m events\u001B[38;5;241m.\u001B[39m_get_running_loop() \u001B[38;5;129;01mis\u001B[39;00m \u001B[38;5;129;01mnot\u001B[39;00m \u001B[38;5;28;01mNone\u001B[39;00m:\n\u001B[1;32m    588\u001B[0m         \u001B[38;5;28;01mraise\u001B[39;00m \u001B[38;5;167;01mRuntimeError\u001B[39;00m(\n\u001B[1;32m    589\u001B[0m             \u001B[38;5;124m'\u001B[39m\u001B[38;5;124mCannot run the event loop while another loop is running\u001B[39m\u001B[38;5;124m'\u001B[39m)\n",
      "\u001B[0;31mRuntimeError\u001B[0m: This event loop is already running"
     ]
    }
   ],
   "source": [
    "import asyncio\n",
    "\n",
    "\n",
    "async def diz_oi_demorado() -> None:\n",
    "    print(\"Oi...\")\n",
    "    await asyncio.sleep(2)\n",
    "    print(\"tudo...\")\n",
    "\n",
    "\n",
    "if __name__ == \"__main__\":\n",
    "    el = asyncio.get_event_loop()\n",
    "    el.run_until_complete(diz_oi_demorado())\n",
    "    el.close()"
   ]
  }
 ],
 "metadata": {
  "kernelspec": {
   "display_name": "Python 3 (ipykernel)",
   "language": "python",
   "name": "python3"
  },
  "language_info": {
   "codemirror_mode": {
    "name": "ipython",
    "version": 3
   },
   "file_extension": ".py",
   "mimetype": "text/x-python",
   "name": "python",
   "nbconvert_exporter": "python",
   "pygments_lexer": "ipython3",
   "version": "3.11.0"
  }
 },
 "nbformat": 4,
 "nbformat_minor": 1
}
