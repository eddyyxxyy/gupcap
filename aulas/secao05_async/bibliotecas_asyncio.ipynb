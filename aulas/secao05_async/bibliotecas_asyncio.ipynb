{
 "cells": [
  {
   "cell_type": "markdown",
   "source": [
    "# Bibliotecas Async IO\n",
    "\n",
    "Quando estamos desenvolvendo uma aplicação e tendo aprendido os conceitos que vimos até o\n",
    "momento neste curso, temos que ficar atentos a utilizar corretamente os recursos de\n",
    "concorrência no nosso código.\n",
    "\n",
    "Principalmente os conceitos de assincronismo com o recurso moderno do módulo asyncio do\n",
    "Python.\n",
    "\n",
    "Contudo, muitas vezes precisamos utilizar bibliotecas de terceiros, como bibliotecas HTTP,\n",
    "acesso á bancos de dados, etc.\n",
    "\n",
    "Lembre-se que só podemos usar await em funções/métodos assíncronos.\n",
    "\n",
    "Então, por exemplo, se uma biblioteca de acesso à (bancos) de dados não for assíncrona, não\n",
    "poderemos utilizar os recursos de assincronia, pois estas bibliotecas por padrão não são\n",
    "suportadas pelo Event Loop e são portando blocking.\n",
    "\n",
    "Desta forma, você precisa sempre, ao utilizar uma biblioteca, se ela suporta assincronia ou caso\n",
    "não se encontra uma biblioteca similar, mas com este suporte.\n",
    "\n",
    "Claro que você vai buscar estas bibliotecas se fizer sentido.\n",
    "\n",
    "Por exemplo, aprendemos que usamos assincronia, geralmente, para tarefas que utilizem IO,\n",
    "como tarefas de bancos de dados, acesso à APIs, manipulação de arquivos em disco, etc.\n",
    "\n",
    "## Exemplos:\n",
    "\n",
    "Uma biblioteca famosa para acesso HTTP em Python é a requests. EPorém não suporta\n",
    "assincronia. Uma substituta com suporte Async é aiohttp.\n",
    "\n",
    "O mesmo vale para trabalhar com banco de dados PostgresSQL usamos psycopg2, que não\n",
    "suporta assincronia, porém temos a biblioteca aiopg que suporta Async.\n",
    "\n",
    "Você encontra uma lista completa e atualizada de bibliotecas Async para Python em:\n",
    "\n",
    "https://github.com/aio-libs\n",
    "https://github.com/python/asyncio/wiki/ThirdParty\n",
    "https://pypi.org/search/?c=Framework+%3A%3A+AsyncIO"
   ],
   "metadata": {
    "collapsed": false
   }
  }
 ],
 "metadata": {
  "kernelspec": {
   "display_name": "Python 3",
   "language": "python",
   "name": "python3"
  },
  "language_info": {
   "codemirror_mode": {
    "name": "ipython",
    "version": 2
   },
   "file_extension": ".py",
   "mimetype": "text/x-python",
   "name": "python",
   "nbconvert_exporter": "python",
   "pygments_lexer": "ipython2",
   "version": "2.7.6"
  }
 },
 "nbformat": 4,
 "nbformat_minor": 0
}
