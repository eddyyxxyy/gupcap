{
 "cells": [
  {
   "cell_type": "markdown",
   "source": [
    "# Trabalhando com Assincronia em Thread Simples\n",
    "\n",
    "A assincronia em thread simples é um método de concorrência onde uma thread simples realiza\n",
    "a concorrência alternando a execução entre múltiplas tarefas.\n",
    "\n",
    "Tipicamente, uma thread executa um código de forma sequencial:\n",
    "\n",
    "...---Tarefa 1---Tarefa 2---Tarefa 3---Tarefa 4---...\n",
    "\n",
    "OBS: uma tarefa pode ser uma função ou mesmo parte de um código... e a thread só executa a\n",
    "próxima tarefa quando terminar a anterior.\n",
    "\n",
    "Caso você queira executar as tarefas simultaneamente, usamos múltiplas-threads.\n",
    "\n",
    "Usando assincronia, podemos utilizar uma thread simples para executar, de forma\n",
    "concorrente, múltiplas tarefas, sem precisarmos esperar cada tarefa ser concluída...\n",
    "\n",
    "...---Tarefa 1---Tarefa 5---Tarefa 2---Tarefa 4---...\n",
    "\n",
    "Isso porque utilizamos Assincronia para tarefas onde ocorre operações de I/O (\"Input/Output\"),\n",
    "como acesso a bancos de dados, leitura ou escrita em disco, acesso à webservices ou APIs...\n",
    "\n",
    "Desta forma a thread pode executar uma tarefa, e ao invés de ficar aguardando a operação\n",
    "completar ela vai para outra tarefa e volta à tarefa anterior para continuar a operação ou receber\n",
    "o resultado.\n",
    "\n",
    "O modelo de concorrência utilizando assincronia em thread simples é baseado na arquitetura\n",
    "de “software” conhecida como Event Driven (guiada a eventos).\n",
    "\n",
    "Esta arquitetura é um “design” de “software” que orquestra o comportamento do “software” através\n",
    "da produção, detecção e consumo de eventos.\n",
    "\n",
    "Estes eventos são operações de I/O.\n",
    "\n",
    "Para trabalharmos com efetividade no uso de assincronia em Python precisamos relembrar\n",
    "o uso de Generators...\n",
    "\n",
    "Linguagens de programação como Python usam um conceito de arquitetura Event\n",
    "Driven chamada Event Loop.\n",
    "\n",
    "O Event Loop é responsável por pegar itens de uma lista de eventos e manuseá-los."
   ],
   "metadata": {
    "collapsed": false
   }
  }
 ],
 "metadata": {
  "kernelspec": {
   "display_name": "Python 3",
   "language": "python",
   "name": "python3"
  },
  "language_info": {
   "codemirror_mode": {
    "name": "ipython",
    "version": 2
   },
   "file_extension": ".py",
   "mimetype": "text/x-python",
   "name": "python",
   "nbconvert_exporter": "python",
   "pygments_lexer": "ipython2",
   "version": "2.7.6"
  }
 },
 "nbformat": 4,
 "nbformat_minor": 0
}
