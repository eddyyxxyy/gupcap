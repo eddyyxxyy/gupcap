{
 "cells": [
  {
   "cell_type": "markdown",
   "source": [
    "## Perfomance Padrão Python"
   ],
   "metadata": {
    "collapsed": false
   }
  },
  {
   "cell_type": "markdown",
   "source": [
    "#### Testando a performance padrão:"
   ],
   "metadata": {
    "collapsed": false
   }
  },
  {
   "cell_type": "code",
   "execution_count": 2,
   "outputs": [
    {
     "name": "stdout",
     "output_type": "stream",
     "text": [
      "Terminou em \"13.06\" segundos.\n"
     ]
    }
   ],
   "source": [
    "import datetime\n",
    "import math\n",
    "\n",
    "\n",
    "def computar(inicio: int = 1, *, fim) -> None:\n",
    "    pos = inicio\n",
    "    fator = 1000 * 1000\n",
    "    while pos < fim:\n",
    "        pos += 1\n",
    "        math.prod([pos - fator, pos * fator])\n",
    "\n",
    "\n",
    "def main() -> None:\n",
    "    inicio = datetime.datetime.now()\n",
    "    computar(fim=50_000_000)\n",
    "    fim = datetime.datetime.now() - inicio\n",
    "\n",
    "    print(f'Terminou em \"{fim.total_seconds():.2f}\" segundos.')\n",
    "\n",
    "\n",
    "if __name__ == '__main__':\n",
    "    main()"
   ],
   "metadata": {
    "collapsed": false
   }
  },
  {
   "cell_type": "markdown",
   "source": [
    "Pudemos ver que, com o teste acima, tivemos uma média entre 10 e 15 segundos\n",
    "para a execução do código com performance padrão do Python."
   ],
   "metadata": {
    "collapsed": false
   }
  }
 ],
 "metadata": {
  "kernelspec": {
   "display_name": "Python 3",
   "language": "python",
   "name": "python3"
  },
  "language_info": {
   "codemirror_mode": {
    "name": "ipython",
    "version": 2
   },
   "file_extension": ".py",
   "mimetype": "text/x-python",
   "name": "python",
   "nbconvert_exporter": "python",
   "pygments_lexer": "ipython2",
   "version": "2.7.6"
  }
 },
 "nbformat": 4,
 "nbformat_minor": 0
}
