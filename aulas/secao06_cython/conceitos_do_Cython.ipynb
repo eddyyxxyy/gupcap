{
 "cells": [
  {
   "cell_type": "markdown",
   "source": [
    "# Compreendendo os conceitos de Cython\n",
    "\n",
    "Vimos ser bastante simples usar o Cython basicamente em 3 passos:\n",
    "\n",
    "1 - Escrevemos o código do módulo em um arquivo com extensão '.pyx',\n",
    "por exemplo:"
   ],
   "metadata": {
    "collapsed": false
   }
  },
  {
   "cell_type": "code",
   "execution_count": null,
   "outputs": [],
   "source": [
    "print(\"Olá Geek!\")"
   ],
   "metadata": {
    "collapsed": false,
    "pycharm": {
     "is_executing": true
    }
   }
  },
  {
   "cell_type": "markdown",
   "source": [
    "2 - Criamos um arquivo setup.py para compilação:"
   ],
   "metadata": {
    "collapsed": false
   }
  },
  {
   "cell_type": "code",
   "execution_count": null,
   "outputs": [],
   "source": [
    "from distutils.core import setup\n",
    "\n",
    "from Cython.Build import cythonize\n",
    "\n",
    "setup(ext_modules=cythonize([\"nome_do_modulo.pyx\"]))"
   ],
   "metadata": {
    "collapsed": false
   }
  },
  {
   "cell_type": "markdown",
   "source": [
    "3 - Com o Cython instalado, então compilamos com o comando:\n",
    "\n",
    "python setup.py build_ext --inplace\n",
    "\n",
    "\n",
    "## Continuando\n",
    "\n",
    "Vimos também que o “código” Cython mesmo é basicamente fazer a tipagem dos dados e usar\n",
    "módulos matemáticos da linguagem C se necessário.\n",
    "\n",
    "Deve ficar claro para você, que você não vai a partir de agora virar um programador Cython e\n",
    "sair escrevendo tudo e qualquer coisa em Cython.\n",
    "\n",
    "A verdade é que você vai usar multiprocessos quando for necessário, usará\n",
    "assincronia quando for necessário e usará o Cython quando for necessário.\n",
    "\n",
    "Sabemos já quais tarefas são indicadas para o uso de multiprocessos ou assincronia.\n",
    "Mas em relação ao uso do Cython?\n",
    "\n",
    "É bastante simples: você irá usar Cython nas partes do seu programa que estiverem lentas.\n",
    "\n",
    "Desta forma a desempenho do seu programa irá ao extremo, pois você estará compilando parte\n",
    "do seu programa em linguagem C que será traduzido para linguagem de máquina.\n",
    "\n",
    "Mas como vou saber qual parte do meu código está lento?\n",
    "\n",
    "Existem várias formas de identificar isso.\n",
    "\n",
    "Por exemplo, nos nossos exemplos de desempenho não estamos calculando o tempo de\n",
    "execução?\n",
    "\n",
    "Porém, algumas ferramentas profissionais que nos ajudam a identificar as partes lentas\n",
    "do nosso código.\n",
    "\n",
    "Usamos o PyCharm Community, IDE gratuita, no nosso curso de Python, mas o\n",
    "recurso que iremos ver aqui está disponível apenas na versão Professional, IDE paga."
   ],
   "metadata": {
    "collapsed": false
   }
  }
 ],
 "metadata": {
  "kernelspec": {
   "display_name": "Python 3",
   "language": "python",
   "name": "python3"
  },
  "language_info": {
   "codemirror_mode": {
    "name": "ipython",
    "version": 2
   },
   "file_extension": ".py",
   "mimetype": "text/x-python",
   "name": "python",
   "nbconvert_exporter": "python",
   "pygments_lexer": "ipython2",
   "version": "2.7.6"
  }
 },
 "nbformat": 4,
 "nbformat_minor": 0
}
