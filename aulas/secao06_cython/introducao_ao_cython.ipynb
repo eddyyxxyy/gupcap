{
 "cells": [
  {
   "cell_type": "markdown",
   "source": [
    "# Introdução ao Cython\n",
    "\n",
    "A principal implementação da linguagem Python, chamada cPython, é escrita com a\n",
    "linguagem de programação C.\n",
    "\n",
    "Inclusive se você sabe programar em C ou C++ você pode estender a linguagem Python\n",
    "criando seus próprios módulos.\n",
    "\n",
    "Várias bibliotecas importantes do mundo Python são escritas em linguagem C, como é o caso\n",
    "da Numpy, ou mesmo partes da SQLAlchemy.\n",
    "\n",
    "Isso porque em alguns problemas, Python não é tão performático.\n",
    "\n",
    "Mas a forma com que Python foi criado, de forma modular, permite que os propósitos de uso da\n",
    "linguagem sejam infinitos, pois podemos mesclar Python com C/C++ e até mesmo outras\n",
    "linguagens como Rust.\n",
    "\n",
    "Mas as linguagens C, C++ ou Rust não são as mais amigáveis e você pode não ser muito\n",
    "familiarizado com elas.\n",
    "\n",
    "### É ai que entra o Cython.\n",
    "\n",
    "Cython é um compilador estático otimizado para a linguagem de programação Python, tornando\n",
    "a escrita de extensões C para Python tão fácil quanto o próprio Python.\n",
    "\n",
    "Podemos instalar facilmente com: pip install Cython\n",
    "\n",
    "Escrevendo código com Cython, ao compilarmos o programa, o código é transformado em\n",
    "linguagem C e então compilado para linguagem de máquina, da mesma forma que ocorre\n",
    "quando escrevemos código em linguagem C.\n",
    "\n",
    "Ou seja, você não precisa conhecer a linguagem C para escrever código extremamente\n",
    "performático compilado para a máquina.\n",
    "\n",
    "## Por que Cython?\n",
    "\n",
    "- Podemos escrever código Python que facilmente se comunica com códigos nativos em C/C++;\n",
    "\n",
    "- Podemos facilmente adicionar desempenho extrema comparável à linguagem C ao nosso\n",
    "código bastando adicionar algumas declarações estáticas de tipo de dados;\n",
    "\n",
    "- É possível integrar facilmente o debug de código, tanto da parte em Python, quanto Cython e\n",
    "linguagem C;\n",
    "\n",
    "- Pode fazer uso eficiente de quantidades gigantes de dados, assim como Numpy consegue\n",
    "fazer;\n",
    "\n",
    "- A biblioteca Cython é madura e amplamente usada no mundo Python;\n",
    "\n",
    "- Você pode integrar Cython nativamente com qualquer outra biblioteca Python;"
   ],
   "metadata": {
    "collapsed": false
   }
  }
 ],
 "metadata": {
  "kernelspec": {
   "display_name": "Python 3",
   "language": "python",
   "name": "python3"
  },
  "language_info": {
   "codemirror_mode": {
    "name": "ipython",
    "version": 2
   },
   "file_extension": ".py",
   "mimetype": "text/x-python",
   "name": "python",
   "nbconvert_exporter": "python",
   "pygments_lexer": "ipython2",
   "version": "2.7.6"
  }
 },
 "nbformat": 4,
 "nbformat_minor": 0
}
